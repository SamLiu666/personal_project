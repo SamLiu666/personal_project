{
 "cells": [
  {
   "cell_type": "markdown",
   "metadata": {},
   "source": [
    "1. 从n个数中选k个不重复的数，排列组合结果"
   ]
  },
  {
   "cell_type": "code",
   "execution_count": 45,
   "metadata": {},
   "outputs": [],
   "source": [
    "def combination(n, k):\n",
    "    \"\"\"\n",
    "    >>> combinations(n=4, k=2)\n",
    "    [[1, 2], [1, 3], [1, 4], [2, 3], [2, 4], [3, 4]]\n",
    "    \"\"\"\n",
    "    if k==0:\n",
    "        return [None]\n",
    "    \n",
    "    result = []\n",
    "    for i in range(1, n+1):\n",
    "        temp = []\n",
    "        temp.append(i)\n",
    "        \n",
    "        for j in range(i+1, n+1):\n",
    "            temp.append(j)\n",
    "            print(temp)\n",
    "            result.append(temp)\n",
    "            if len(temp) >= k:\n",
    "                temp.pop()\n",
    "                print(result)\n",
    "            \n",
    "    return result"
   ]
  },
  {
   "cell_type": "code",
   "execution_count": 46,
   "metadata": {},
   "outputs": [
    {
     "name": "stdout",
     "output_type": "stream",
     "text": [
      "[1, 2]\n",
      "[[1]]\n",
      "[1, 3]\n",
      "[[1], [1]]\n",
      "[1, 4]\n",
      "[[1], [1], [1]]\n",
      "[2, 3]\n",
      "[[1], [1], [1], [2]]\n",
      "[2, 4]\n",
      "[[1], [1], [1], [2], [2]]\n",
      "[3, 4]\n",
      "[[1], [1], [1], [2], [2], [3]]\n"
     ]
    }
   ],
   "source": [
    "# combination(4,0)\n",
    "s = combination(4,2)\n",
    "# s = combination(5,3)\n",
    "# for i in s:\n",
    "#     print(*i)"
   ]
  },
  {
   "cell_type": "code",
   "execution_count": 44,
   "metadata": {},
   "outputs": [
    {
     "data": {
      "text/plain": [
       "[[1], [1], [1], [2], [2], [3]]"
      ]
     },
     "execution_count": 44,
     "metadata": {},
     "output_type": "execute_result"
    }
   ],
   "source": [
    "s"
   ]
  },
  {
   "cell_type": "code",
   "execution_count": null,
   "metadata": {},
   "outputs": [],
   "source": [
    "def state(increment, total, level, current, total_list):\n",
    "    if level==0:\n",
    "        total_list.append(current[:])\n",
    "        return\n",
    "    \n",
    "    for i in range(increment, total-k+2):\n",
    "        current.append(i)\n",
    "        state(i+1, total, level-1, current, total_list)\n",
    "        current.pop()"
   ]
  }
 ],
 "metadata": {
  "kernelspec": {
   "display_name": "Python 3",
   "language": "python",
   "name": "python3"
  },
  "language_info": {
   "codemirror_mode": {
    "name": "ipython",
    "version": 3
   },
   "file_extension": ".py",
   "mimetype": "text/x-python",
   "name": "python",
   "nbconvert_exporter": "python",
   "pygments_lexer": "ipython3",
   "version": "3.7.3"
  }
 },
 "nbformat": 4,
 "nbformat_minor": 2
}
